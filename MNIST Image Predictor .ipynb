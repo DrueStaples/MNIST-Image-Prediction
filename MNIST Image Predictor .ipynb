{
 "cells": [
  {
   "cell_type": "code",
   "execution_count": 6,
   "metadata": {},
   "outputs": [],
   "source": [
    "import tensorflow as tf"
   ]
  },
  {
   "cell_type": "code",
   "execution_count": 14,
   "metadata": {},
   "outputs": [],
   "source": [
    "#grab the dataset\n",
    "mnist = tf.keras.datasets.mnist"
   ]
  },
  {
   "cell_type": "code",
   "execution_count": 15,
   "metadata": {},
   "outputs": [],
   "source": [
    "#prep the training model \n",
    "(x_train, y_train), (x_test, y_test) = mnist.load_data()\n",
    "\n",
    "#normalize the data\n",
    "(x_train, x_test) = x_train / 255.0, x_test / 255.0\n"
   ]
  },
  {
   "cell_type": "code",
   "execution_count": 16,
   "metadata": {},
   "outputs": [],
   "source": [
    "#construct the model \n",
    "\n",
    "model = tf.keras.models.Sequential([\n",
    "    tf.keras.layers.Flatten(input_shape=(28,28)), #input layer of 28x28 pixeled image that gets flattened\n",
    "    tf.keras.layers.Dense(512, activation=tf.nn.relu), #first hidden layer relu returns number if activation is greater that .5 otherwise 0\n",
    "    tf.keras.layers.Dropout(0.2), #Dropout fractionalizes our numbers by .2 \n",
    "    tf.keras.layers.Dense(10, activation=tf.nn.softmax) #softmax gives us the probabilty of our output\n",
    "])\n",
    "\n",
    "#compile the model with an optimizer, loss, and metrics\n",
    "\n",
    "model.compile(\n",
    "optimizer='adam', #minimizes our loss\n",
    "loss='sparse_categorical_crossentropy', #calculates loss\n",
    "metrics=['accuracy']) #calculates how predictions match the labels"
   ]
  },
  {
   "cell_type": "code",
   "execution_count": 17,
   "metadata": {},
   "outputs": [
    {
     "name": "stdout",
     "output_type": "stream",
     "text": [
      "Epoch 1/5\n",
      "60000/60000 [==============================] - 25s 420us/step - loss: 0.2192 - acc: 0.9346\n",
      "Epoch 2/5\n",
      "60000/60000 [==============================] - 25s 420us/step - loss: 0.0972 - acc: 0.9712\n",
      "Epoch 3/5\n",
      "60000/60000 [==============================] - 25s 418us/step - loss: 0.0693 - acc: 0.9787\n",
      "Epoch 4/5\n",
      "60000/60000 [==============================] - 26s 426us/step - loss: 0.0529 - acc: 0.9835\n",
      "Epoch 5/5\n",
      "60000/60000 [==============================] - 25s 420us/step - loss: 0.0444 - acc: 0.9854\n",
      "10000/10000 [==============================] - 1s 107us/step\n"
     ]
    },
    {
     "data": {
      "text/plain": [
       "[0.06150529285394587, 0.9819]"
      ]
     },
     "execution_count": 17,
     "metadata": {},
     "output_type": "execute_result"
    }
   ],
   "source": [
    "#fit the training data\n",
    "model.fit(x_train, y_train, epochs=5)\n",
    "\n",
    "#evaluate the data\n",
    "model.evaluate(x_test, y_test)"
   ]
  },
  {
   "cell_type": "code",
   "execution_count": null,
   "metadata": {},
   "outputs": [],
   "source": []
  }
 ],
 "metadata": {
  "kernelspec": {
   "display_name": "Python 3",
   "language": "python",
   "name": "python3"
  },
  "language_info": {
   "codemirror_mode": {
    "name": "ipython",
    "version": 3
   },
   "file_extension": ".py",
   "mimetype": "text/x-python",
   "name": "python",
   "nbconvert_exporter": "python",
   "pygments_lexer": "ipython3",
   "version": "3.6.8"
  }
 },
 "nbformat": 4,
 "nbformat_minor": 2
}
