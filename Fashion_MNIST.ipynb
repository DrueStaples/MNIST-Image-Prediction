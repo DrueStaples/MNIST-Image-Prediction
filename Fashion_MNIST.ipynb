{
  "nbformat": 4,
  "nbformat_minor": 0,
  "metadata": {
    "colab": {
      "name": "Fashion_MNIST",
      "version": "0.3.2",
      "provenance": [],
      "collapsed_sections": [],
      "include_colab_link": true
    },
    "kernelspec": {
      "name": "python3",
      "display_name": "Python 3"
    }
  },
  "cells": [
    {
      "cell_type": "markdown",
      "metadata": {
        "id": "view-in-github",
        "colab_type": "text"
      },
      "source": [
        "<a href=\"https://colab.research.google.com/github/DrueStaples/MNIST-Image-Prediction/blob/master/Fashion_MNIST.ipynb\" target=\"_parent\"><img src=\"https://colab.research.google.com/assets/colab-badge.svg\" alt=\"Open In Colab\"/></a>"
      ]
    },
    {
      "metadata": {
        "id": "aNS43caNAaFq",
        "colab_type": "text"
      },
      "cell_type": "markdown",
      "source": [
        "**Welcome to your first mission to change lives!  Here, a company has created vending machines that dispense clothing to people by means of collecting trash. They plan to put these all over low income/ poverty suffering areas. They need your help to build a classifier in order to detect what clothing is what, so the machine dispenses the right clothes! Good Luck!!! **\n",
        "\n",
        "\n",
        "\n"
      ]
    },
    {
      "metadata": {
        "id": "zYZcQITrb1R6",
        "colab_type": "text"
      },
      "cell_type": "markdown",
      "source": [
        "General way of solving machine learning problems:\n",
        "\n",
        "1.) Import Frameworks, API's, Libraries, etc \n",
        "\n",
        "2.) Import the dataset to training/ testing variables for both our input and output\n",
        "\n",
        "3.) Explore the data\n",
        "\n",
        "4.) Preprocess the data\n",
        "\n",
        "5.) Build the model (layers + compile)\n",
        "\n",
        "6.) Train the model\n",
        "\n",
        "7.) Evaluate accuracy\n",
        "\n",
        "8.) Make predictions"
      ]
    },
    {
      "metadata": {
        "id": "-oF4768iIDIR",
        "colab_type": "text"
      },
      "cell_type": "markdown",
      "source": [
        "Step 1.) **Import** Frameworks, API's Libraries, etc."
      ]
    },
    {
      "metadata": {
        "id": "Xc_v7cvnAVH2",
        "colab_type": "code",
        "outputId": "90b154f3-a98d-4210-a02d-801729b427eb",
        "colab": {
          "base_uri": "https://localhost:8080/",
          "height": 34
        }
      },
      "cell_type": "code",
      "source": [
        "from __future__ import absolute_import, division, print_function #helps with future versions of tensorflow\n",
        "\n",
        "#import tensorflow for data flow and keras for constructing neural networks\n",
        "\n",
        "import tensorflow as tf\n",
        "from tensorflow import keras\n",
        "\n",
        "#make sure you have the latest version of tensorflow\n",
        "print(tf.__version__)"
      ],
      "execution_count": 156,
      "outputs": [
        {
          "output_type": "stream",
          "text": [
            "1.13.1\n"
          ],
          "name": "stdout"
        }
      ]
    },
    {
      "metadata": {
        "id": "u-QAIKv5v_or",
        "colab_type": "code",
        "colab": {}
      },
      "cell_type": "code",
      "source": [
        "#import numpy for matrix construction and matplotlib for plotting  \n",
        "\n",
        "import numpy as np\n",
        "import matplotlib.pyplot as plt"
      ],
      "execution_count": 0,
      "outputs": []
    },
    {
      "metadata": {
        "id": "TFIpXYz0IRpE",
        "colab_type": "text"
      },
      "cell_type": "markdown",
      "source": [
        "Step 2.) **Import** the dataset to **training/ testing variables** for both our **input and output**"
      ]
    },
    {
      "metadata": {
        "id": "WCvmt_diwJry",
        "colab_type": "code",
        "colab": {}
      },
      "cell_type": "code",
      "source": [
        "#load the dataset to the training/testing inputs/outputs\n",
        "\n",
        "fashion_mnist = keras.datasets.fashion_mnist\n",
        "\n",
        "(train_in, train_out), (test_in, test_out) = fashion_mnist.load_data()"
      ],
      "execution_count": 0,
      "outputs": []
    },
    {
      "metadata": {
        "id": "EGSuSzQLw3kk",
        "colab_type": "code",
        "colab": {}
      },
      "cell_type": "code",
      "source": [
        "#create class names for the clothing so the images aren't being referred to by numbers\n",
        "\n",
        "class_names = ['T-shirt/top', 'Trouser', 'Pullover', 'Dress', 'Coat', 'Sandal', 'Shirt', 'Sneaker', 'Bag', 'Ankle Boot']"
      ],
      "execution_count": 0,
      "outputs": []
    },
    {
      "metadata": {
        "id": "1MkvrSW-H9E7",
        "colab_type": "text"
      },
      "cell_type": "markdown",
      "source": [
        "Step 3.) **Explore** your dataset to understand the **SIZE** of your training and test inputs and outputs "
      ]
    },
    {
      "metadata": {
        "id": "xqq2o3LRJX8v",
        "colab_type": "code",
        "colab": {}
      },
      "cell_type": "code",
      "source": [
        "#Explore the data! You'll see there are 60000 training images and 10000 test images all represented as 28x28pixels\n",
        "\n",
        "#train_in.shape\n",
        "#len(train_in)\n",
        "#train_in\n",
        "#test_in.shape\n",
        "#len(test_in)"
      ],
      "execution_count": 0,
      "outputs": []
    },
    {
      "metadata": {
        "id": "ktU2SpvHIhae",
        "colab_type": "text"
      },
      "cell_type": "markdown",
      "source": [
        "Step 4.) **Preprocess** the data helps us **VISUALLY UNDERSTAND** our dataset"
      ]
    },
    {
      "metadata": {
        "id": "kXB9EEMwyxLD",
        "colab_type": "code",
        "outputId": "0c05e3b1-44a3-4772-ac1b-d744becfb15d",
        "colab": {
          "base_uri": "https://localhost:8080/",
          "height": 347
        }
      },
      "cell_type": "code",
      "source": [
        "#this helps understand the data more (get a visualization to help understand how to data is being portrayed)\n",
        "\n",
        "plt.figure() #creates graph, but doesnt dislay graph\n",
        "plt.imshow(train_in[0])#'Im showing' you training image 0\n",
        "plt.colorbar()#represents each pixel on a scale of 0-255 (display)\n",
        "plt.grid(False)#False eliminates grid lines\n",
        "plt.show()#showtime!"
      ],
      "execution_count": 161,
      "outputs": [
        {
          "output_type": "display_data",
          "data": {
            "image/png": "[encoded data removed]",
            "text/plain": [
              "<Figure size 576x396 with 2 Axes>"
            ]
          },
          "metadata": {
            "tags": []
          }
        }
      ]
    },
    {
      "metadata": {
        "id": "oRQxD_rGzM1V",
        "colab_type": "code",
        "colab": {}
      },
      "cell_type": "code",
      "source": [
        "#now lets normalize the data by squishing the inputs that range from 0-255 to a range of 0.0-1.0\n",
        "\n",
        "train_in, test_in = train_in / 255.0, test_in / 255.0"
      ],
      "execution_count": 0,
      "outputs": []
    },
    {
      "metadata": {
        "id": "9SwmcI_as0f8",
        "colab_type": "text"
      },
      "cell_type": "markdown",
      "source": [
        "Verify everything is working up to this point, by displaying what you did. Try the first 16 images!"
      ]
    },
    {
      "metadata": {
        "id": "JRIIFKPSD9Ik",
        "colab_type": "code",
        "outputId": "9ba45a40-14c5-43c9-bc20-52c7426e8822",
        "colab": {
          "base_uri": "https://localhost:8080/",
          "height": 589
        }
      },
      "cell_type": "code",
      "source": [
        "plt.figure(figsize=(10,10)) #how big is the overall size of our graph?\n",
        "for x in range(16): #first 16 images\n",
        "  plt.subplot(4,4,x+1) #4 images in each row AND column\n",
        "  plt.imshow(train_in[x], cmap=plt.cm.binary) #shows each training image\n",
        "  plt.xticks([]) #gets rid of ticks on x axis\n",
        "  plt.yticks([]) #gets rid of ticks on y axis\n",
        "  plt.xlabel(class_names[train_out[x]]) #DOES THE NAME MATCH THE IMAGE???\n",
        "plt.show() #showtime!"
      ],
      "execution_count": 163,
      "outputs": [
        {
          "output_type": "display_data",
          "data": {
            "image/png": "[encoded data removed]",
            "text/plain": [
              "<Figure size 720x720 with 16 Axes>"
            ]
          },
          "metadata": {
            "tags": []
          }
        }
      ]
    },
    {
      "metadata": {
        "id": "izjOaJjUS5zZ",
        "colab_type": "text"
      },
      "cell_type": "markdown",
      "source": [
        "Step 5.) Build the model (layers + compile)"
      ]
    },
    {
      "metadata": {
        "id": "2EWOr_ScS_3-",
        "colab_type": "code",
        "colab": {}
      },
      "cell_type": "code",
      "source": [
        "#Construct the model via its layers\n",
        "\n",
        "model = keras.Sequential([\n",
        "    keras.layers.Flatten(input_shape=(28,28)), #Input Layer consists of flattening our 28x28 matrices into one long vector\n",
        "    keras.layers.Dense(128, activation=tf.nn.relu), #Hidden Layer consists of 128 neurons and an activation of relu which returns the number if number > 0, 0 otherwise\n",
        "    keras.layers.Dense(10, activation=tf.nn.softmax) #Output Layer consists of 10 neurons and an actiavation of softmax which is the sum of all 10 probabilities \n",
        "    \n",
        "])\n",
        "\n",
        "#Compile the model\n",
        "\n",
        "model.compile(\n",
        "optimizer='adam', #decreases our error (aka cost) to as close to 0 as possible\n",
        "loss='sparse_categorical_crossentropy', #this will give us our error \n",
        "metrics=['accuracy'] #used to review training/testing steps of just how 'accurate' our images are correctly classified\n",
        ")"
      ],
      "execution_count": 0,
      "outputs": []
    },
    {
      "metadata": {
        "id": "ogvQ2j-9aOzD",
        "colab_type": "text"
      },
      "cell_type": "markdown",
      "source": [
        "Step 6.) Train the model Let us do this with 3 steps: training input, training output, and epochs\n"
      ]
    },
    {
      "metadata": {
        "id": "jghQq5c4VKLB",
        "colab_type": "code",
        "outputId": "a4e4fc04-dab6-4870-ecd1-a937dbb19915",
        "colab": {
          "base_uri": "https://localhost:8080/",
          "height": 204
        }
      },
      "cell_type": "code",
      "source": [
        "#fit means train. Within it, include the training inputs and outputs, as well as the # of epochs\n",
        "\n",
        "model.fit(train_in, train_out, epochs=5)"
      ],
      "execution_count": 165,
      "outputs": [
        {
          "output_type": "stream",
          "text": [
            "Epoch 1/5\n",
            "60000/60000 [==============================] - 8s 138us/sample - loss: 0.4970 - acc: 0.8262\n",
            "Epoch 2/5\n",
            "60000/60000 [==============================] - 8s 136us/sample - loss: 0.3770 - acc: 0.8635\n",
            "Epoch 3/5\n",
            "60000/60000 [==============================] - 8s 140us/sample - loss: 0.3376 - acc: 0.8754\n",
            "Epoch 4/5\n",
            "60000/60000 [==============================] - 8s 140us/sample - loss: 0.3126 - acc: 0.8851\n",
            "Epoch 5/5\n",
            "60000/60000 [==============================] - 8s 136us/sample - loss: 0.2958 - acc: 0.8898\n"
          ],
          "name": "stdout"
        },
        {
          "output_type": "execute_result",
          "data": {
            "text/plain": [
              "<tensorflow.python.keras.callbacks.History at 0x7fe40c4a3be0>"
            ]
          },
          "metadata": {
            "tags": []
          },
          "execution_count": 165
        }
      ]
    },
    {
      "metadata": {
        "id": "Wr5vXGDmei-t",
        "colab_type": "text"
      },
      "cell_type": "markdown",
      "source": [
        "Step 7.) Evaluate accuracy. Let's find out well this will do against our test dataset!"
      ]
    },
    {
      "metadata": {
        "id": "P--SRghsexIv",
        "colab_type": "code",
        "outputId": "242e7157-d9b7-4354-8f52-1296d25418a0",
        "colab": {
          "base_uri": "https://localhost:8080/",
          "height": 51
        }
      },
      "cell_type": "code",
      "source": [
        "#save the test's loss and its accuracy\n",
        "\n",
        "test_loss, test_acc = model.evaluate(test_in, test_out)\n",
        "\n",
        "print('the accuracy of your 10,000 image test set is ', test_acc)"
      ],
      "execution_count": 166,
      "outputs": [
        {
          "output_type": "stream",
          "text": [
            "10000/10000 [==============================] - 1s 56us/sample - loss: 0.3443 - acc: 0.8773\n",
            "the accuracy of your 10,000 image test set is  0.8773\n"
          ],
          "name": "stdout"
        }
      ]
    },
    {
      "metadata": {
        "id": "fuwMYN5ig2pb",
        "colab_type": "text"
      },
      "cell_type": "markdown",
      "source": [
        "Notice above, the accuracy (87%) of the test set is less than the accuracy of the training set (89%). This is an example of overfitting meaning our model does well on our training set but can't generalize as well with new datasets.  "
      ]
    },
    {
      "metadata": {
        "id": "KrBC8a-Vh1JU",
        "colab_type": "text"
      },
      "cell_type": "markdown",
      "source": [
        "Step 8.) Make predictions on the TEST set"
      ]
    },
    {
      "metadata": {
        "id": "IVwEz9WKNPL7",
        "colab_type": "code",
        "colab": {}
      },
      "cell_type": "code",
      "source": [
        "#save your TEST predictions to a variable\n",
        "\n",
        "predictions = model.predict(test_in)"
      ],
      "execution_count": 0,
      "outputs": []
    },
    {
      "metadata": {
        "id": "Pf57Zs2oOa3N",
        "colab_type": "code",
        "outputId": "d8a2869c-cb59-4f8d-a6d6-2044b640fdc1",
        "colab": {
          "base_uri": "https://localhost:8080/",
          "height": 68
        }
      },
      "cell_type": "code",
      "source": [
        "#make a test prediction of image 0 which gives us...\n",
        "\n",
        "predictions[0]\n",
        "\n",
        "#an array of 10 numbers aka labels.The higher the number, the higher the 'confidence'. "
      ],
      "execution_count": 168,
      "outputs": [
        {
          "output_type": "execute_result",
          "data": {
            "text/plain": [
              "array([8.13511542e-06, 3.63417421e-08, 7.19118560e-08, 1.14610055e-08,\n",
              "       2.04299809e-07, 2.13182345e-02, 5.40268911e-06, 3.93715277e-02,\n",
              "       5.46949286e-06, 9.39290941e-01], dtype=float32)"
            ]
          },
          "metadata": {
            "tags": []
          },
          "execution_count": 168
        }
      ]
    },
    {
      "metadata": {
        "id": "dciVaPtcPKRM",
        "colab_type": "code",
        "outputId": "2a9cec27-bf1f-41b8-c886-4c88d4941286",
        "colab": {
          "base_uri": "https://localhost:8080/",
          "height": 34
        }
      },
      "cell_type": "code",
      "source": [
        "#What label has the highest confidence?\n",
        "\n",
        "np.argmax(predictions[0])"
      ],
      "execution_count": 169,
      "outputs": [
        {
          "output_type": "execute_result",
          "data": {
            "text/plain": [
              "9"
            ]
          },
          "metadata": {
            "tags": []
          },
          "execution_count": 169
        }
      ]
    },
    {
      "metadata": {
        "id": "i5b_VLfoAyJR",
        "colab_type": "text"
      },
      "cell_type": "markdown",
      "source": [
        "We just predicted that image 0 is most confident as label 9 which is the ankle boot!"
      ]
    },
    {
      "metadata": {
        "id": "bhY_rM3TPeeV",
        "colab_type": "code",
        "outputId": "96959fd1-449b-4191-97c1-5764bc694308",
        "colab": {
          "base_uri": "https://localhost:8080/",
          "height": 34
        }
      },
      "cell_type": "code",
      "source": [
        "#lets see if this prediction of the test set ACTUALLY matches up with our test result\n",
        "\n",
        "test_out[0]"
      ],
      "execution_count": 170,
      "outputs": [
        {
          "output_type": "execute_result",
          "data": {
            "text/plain": [
              "9"
            ]
          },
          "metadata": {
            "tags": []
          },
          "execution_count": 170
        }
      ]
    },
    {
      "metadata": {
        "id": "u5lIyC4MC8Jt",
        "colab_type": "code",
        "colab": {}
      },
      "cell_type": "code",
      "source": [
        "#try out some more predictions\n",
        "\n",
        "#np.argmax(predictions[8])\n",
        "#test_out[8]\n",
        "\n",
        "#np.argmax(predictions[46])\n",
        "#test_out[46]\n",
        "\n",
        "#np.argmax(predictions[335])\n",
        "#test_out[335]"
      ],
      "execution_count": 0,
      "outputs": []
    },
    {
      "metadata": {
        "id": "AOblFmLkxlJi",
        "colab_type": "text"
      },
      "cell_type": "markdown",
      "source": [
        "Let's look at the 10 channels to see how it's graphed "
      ]
    },
    {
      "metadata": {
        "id": "Rabpzj87xUGQ",
        "colab_type": "code",
        "colab": {}
      },
      "cell_type": "code",
      "source": [
        "def plot_image(i, predictions_array, true_label, img):\n",
        "  predictions_array, true_label, img = predictions_array[i], true_label[i], img[i]\n",
        "  plt.xticks([])\n",
        "  plt.yticks([])\n",
        "  plt.grid(False)\n",
        "  \n",
        "  plt.imshow(img, cmap=plt.cm.binary)\n",
        "  \n",
        "  predicted_label = np.argmax(predictions_array)\n",
        "  if predicted_label == true_label:\n",
        "    color = 'blue'\n",
        "  else:\n",
        "    color = 'red'\n",
        "    \n",
        "  plt.xlabel('{} {:2.0f}% ({})'.format(class_names[predicted_label], 100*np.max(predictions_array), class_names[true_label]), color=color)\n",
        "  \n",
        "def plot_value_array(i, predictions_array, true_label):\n",
        "  predictions_array, true_label = predictions_array[i], true_label[i]\n",
        "  plt.yticks([])\n",
        "  plt.xticks([])\n",
        "  plt.grid(False)\n",
        "  thisplot = plt.bar(range(10), predictions_array, color='#777777')\n",
        "  plt.ylim([0,1])\n",
        "  predicted_label = np.argmax(predictions_array)\n",
        "  \n",
        "  thisplot[predicted_label].set_color('red')\n",
        "  thisplot[true_label].set_color('blue')"
      ],
      "execution_count": 0,
      "outputs": []
    },
    {
      "metadata": {
        "id": "ukJ7zRKxSdU2",
        "colab_type": "text"
      },
      "cell_type": "markdown",
      "source": [
        "Below is the 0th image, the prediction, and the prediction array"
      ]
    },
    {
      "metadata": {
        "id": "lcdzKnXOOkTc",
        "colab_type": "code",
        "colab": {
          "base_uri": "https://localhost:8080/",
          "height": 203
        },
        "outputId": "1219e9c2-59b2-4a10-ea36-5043bffcc273"
      },
      "cell_type": "code",
      "source": [
        "i = 864\n",
        "plt.figure(figsize=(6,3))\n",
        "plt.subplot(1,2,1)\n",
        "plot_image(i, predictions, test_out, test_in)\n",
        "plt.subplot(1,2,2)\n",
        "plot_value_array(i, predictions, test_out)\n",
        "plt.show()"
      ],
      "execution_count": 173,
      "outputs": [
        {
          "output_type": "display_data",
          "data": {
            "image/png": "[encoded data removed]",
            "text/plain": [
              "<Figure size 432x216 with 2 Axes>"
            ]
          },
          "metadata": {
            "tags": []
          }
        }
      ]
    },
    {
      "metadata": {
        "id": "eaSg18lhOkmW",
        "colab_type": "code",
        "colab": {
          "base_uri": "https://localhost:8080/",
          "height": 203
        },
        "outputId": "12cd54a5-f40f-4f39-a767-c024ee0ac314"
      },
      "cell_type": "code",
      "source": [
        "i = 13\n",
        "plt.figure(figsize=(6,3))\n",
        "plt.subplot(1,2,1)\n",
        "plot_image(i, predictions, test_out, test_in)\n",
        "plt.subplot(1,2,2)\n",
        "plot_value_array(i, predictions, test_out)\n",
        "plt.show()\n"
      ],
      "execution_count": 174,
      "outputs": [
        {
          "output_type": "display_data",
          "data": {
            "image/png": "[encoded data removed]",
            "text/plain": [
              "<Figure size 432x216 with 2 Axes>"
            ]
          },
          "metadata": {
            "tags": []
          }
        }
      ]
    },
    {
      "metadata": {
        "id": "8qFZT19uVh1W",
        "colab_type": "text"
      },
      "cell_type": "markdown",
      "source": [
        "Lets try plotting several images at one time with their predictions! Blue means correct. Red means incorrect. The number is how confident our model is. Notice we can be 'confidently wrong.''"
      ]
    },
    {
      "metadata": {
        "id": "s_z_YyFfOk0N",
        "colab_type": "code",
        "colab": {
          "base_uri": "https://localhost:8080/",
          "height": 589
        },
        "outputId": "74bd5637-689c-4d0c-deb1-e22f82a895d1"
      },
      "cell_type": "code",
      "source": [
        "#plot the first ____ images, their predicted label, AND the true label (hopefully theyre the same, also they visually look like bar graphs)\n",
        "\n",
        "num_rows = 5\n",
        "num_cols = 3\n",
        "num_images = num_rows*num_cols\n",
        "plt.figure(figsize=(2*2*num_cols, 2*num_rows))\n",
        "for i in range(num_images):\n",
        "  plt.subplot(num_rows, 2*num_cols, 2*i+1)\n",
        "  plot_image(i, predictions, test_out, test_in)\n",
        "  plt.subplot(num_rows, 2*num_cols, 2*i+2)\n",
        "  plot_value_array(i, predictions, test_out)\n",
        "plt.show()\n",
        "\n",
        "\n"
      ],
      "execution_count": 175,
      "outputs": [
        {
          "output_type": "display_data",
          "data": {
            "image/png": "[encoded data removed]",
            "text/plain": [
              "<Figure size 864x720 with 30 Axes>"
            ]
          },
          "metadata": {
            "tags": []
          }
        }
      ]
    },
    {
      "metadata": {
        "id": "CRfxacVch4l8",
        "colab_type": "text"
      },
      "cell_type": "markdown",
      "source": [
        "Let's use our trained model to predict an image!"
      ]
    },
    {
      "metadata": {
        "id": "GGuq56l8hUZP",
        "colab_type": "code",
        "colab": {
          "base_uri": "https://localhost:8080/",
          "height": 34
        },
        "outputId": "0baa1e57-1b70-4f96-b8dd-a50ff2ae6697"
      },
      "cell_type": "code",
      "source": [
        "#Grab an image from the test dataset\n",
        "\n",
        "img = test_in[0]\n",
        "\n",
        "print(img.shape)"
      ],
      "execution_count": 176,
      "outputs": [
        {
          "output_type": "stream",
          "text": [
            "(28, 28)\n"
          ],
          "name": "stdout"
        }
      ]
    },
    {
      "metadata": {
        "id": "nIIiGRoBil99",
        "colab_type": "code",
        "colab": {
          "base_uri": "https://localhost:8080/",
          "height": 34
        },
        "outputId": "127f7e48-8ec2-480b-c2ca-b8c25ce57e74"
      },
      "cell_type": "code",
      "source": [
        "#Add the image to a batch where it's the only member\n",
        "\n",
        "img = (np.expand_dims(img,0))\n",
        "\n",
        "print(img.shape)"
      ],
      "execution_count": 177,
      "outputs": [
        {
          "output_type": "stream",
          "text": [
            "(1, 28, 28)\n"
          ],
          "name": "stdout"
        }
      ]
    },
    {
      "metadata": {
        "id": "RjEfH5Z0oRzI",
        "colab_type": "text"
      },
      "cell_type": "markdown",
      "source": [
        "Now predict the image!"
      ]
    },
    {
      "metadata": {
        "id": "jcWk2cSQoVAJ",
        "colab_type": "code",
        "colab": {
          "base_uri": "https://localhost:8080/",
          "height": 68
        },
        "outputId": "95dfaa92-e2f0-48ed-d49a-7b4f8a77902c"
      },
      "cell_type": "code",
      "source": [
        "predictions_single = model.predict(img)\n",
        "\n",
        "print(predictions_single)"
      ],
      "execution_count": 178,
      "outputs": [
        {
          "output_type": "stream",
          "text": [
            "[[8.13511542e-06 3.63417421e-08 7.19119839e-08 1.14610055e-08\n",
            "  2.04299425e-07 2.13182028e-02 5.40268366e-06 3.93715166e-02\n",
            "  5.46948695e-06 9.39290941e-01]]\n"
          ],
          "name": "stdout"
        }
      ]
    },
    {
      "metadata": {
        "id": "4XtZA8gPolk2",
        "colab_type": "code",
        "colab": {
          "base_uri": "https://localhost:8080/",
          "height": 373
        },
        "outputId": "767e419a-a587-43e4-ab4e-a76a4ee5a252"
      },
      "cell_type": "code",
      "source": [
        "plot_value_array(0, predictions_single, test_out)\n",
        "_ = plt.xticks(range(10), class_names, rotation=35)"
      ],
      "execution_count": 179,
      "outputs": [
        {
          "output_type": "display_data",
          "data": {
            "image/png": "[encoded data removed]",
            "text/plain": [
              "<Figure size 576x396 with 1 Axes>"
            ]
          },
          "metadata": {
            "tags": []
          }
        }
      ]
    },
    {
      "metadata": {
        "id": "c5jxePtqpOwS",
        "colab_type": "code",
        "colab": {
          "base_uri": "https://localhost:8080/",
          "height": 34
        },
        "outputId": "a5b0c3c1-4232-4dc3-8cee-5104a99dfabe"
      },
      "cell_type": "code",
      "source": [
        "np.argmax(predictions_single[0])"
      ],
      "execution_count": 180,
      "outputs": [
        {
          "output_type": "execute_result",
          "data": {
            "text/plain": [
              "9"
            ]
          },
          "metadata": {
            "tags": []
          },
          "execution_count": 180
        }
      ]
    },
    {
      "metadata": {
        "id": "xzmHpmQDphAq",
        "colab_type": "text"
      },
      "cell_type": "markdown",
      "source": [
        "Again, our model predicts a label of 9! Which is ankle boot!"
      ]
    },
    {
      "metadata": {
        "id": "3PKAoQBgZFio",
        "colab_type": "text"
      },
      "cell_type": "markdown",
      "source": [
        "General way of solving machine learning problems:\n",
        "\n",
        "1.) Import Frameworks, API's, Libraries, etc \n",
        "\n",
        "2.) Import the dataset to training/ testing variables for both our input and output\n",
        "\n",
        "3.) Explore the data\n",
        "\n",
        "4.) Preprocess the data\n",
        "\n",
        "5.) Build the model (layers + compile)\n",
        "\n",
        "6.) Train the model\n",
        "\n",
        "7.) Evaluate accuracy\n",
        "\n",
        "8.) Make predictions"
      ]
    },
    {
      "metadata": {
        "id": "A8yDG_EeziSR",
        "colab_type": "text"
      },
      "cell_type": "markdown",
      "source": [
        "Congrats!!! You have changed millions of lives based off of your hard work to complete this task! Now, you are ready for the next step. I encourage you to switch up the code and to understand what the code does! Have fun and happy coding!"
      ]
    }
  ]
}